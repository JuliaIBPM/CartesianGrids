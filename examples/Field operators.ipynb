{
 "cells": [
  {
   "cell_type": "markdown",
   "metadata": {},
   "source": [
    "# Examples of using mimetic field operators"
   ]
  },
  {
   "cell_type": "code",
   "execution_count": 1,
   "metadata": {},
   "outputs": [
    {
     "name": "stderr",
     "output_type": "stream",
     "text": [
      "┌ Info: Precompiling CartesianGrids [3e975e5d-2cf8-4263-9573-8460aaf534d9]\n",
      "└ @ Base loading.jl:1260\n"
     ]
    }
   ],
   "source": [
    "using CartesianGrids"
   ]
  },
  {
   "cell_type": "code",
   "execution_count": 3,
   "metadata": {},
   "outputs": [],
   "source": [
    "using Plots\n",
    "pyplot()\n",
    "default(grid = false)"
   ]
  },
  {
   "cell_type": "markdown",
   "metadata": {},
   "source": [
    "### Testing field types and operators"
   ]
  },
  {
   "cell_type": "code",
   "execution_count": 2,
   "metadata": {},
   "outputs": [],
   "source": [
    "i = 5; j = 5;"
   ]
  },
  {
   "cell_type": "code",
   "execution_count": 3,
   "metadata": {},
   "outputs": [],
   "source": [
    "nx = 12; ny = 12;"
   ]
  },
  {
   "cell_type": "code",
   "execution_count": 4,
   "metadata": {},
   "outputs": [
    {
     "data": {
      "text/plain": [
       "Nodes{Primal,5,4,Float64,Array{Float64,2}} data\n",
       "Printing in grid orientation (lower left is (1,1))\n",
       "3×4 Array{Float64,2}:\n",
       " 0.0  0.0  0.0  0.0\n",
       " 0.0  0.0  0.0  0.0\n",
       " 0.0  0.0  0.0  0.0"
      ]
     },
     "execution_count": 4,
     "metadata": {},
     "output_type": "execute_result"
    }
   ],
   "source": [
    "w = Nodes(Dual,(5,4))\n",
    "w .= reshape(1:20,5,4)\n",
    "w∘w\n",
    "C = Curl()\n",
    "D = Divergence()\n",
    "D*(C*w)"
   ]
  },
  {
   "cell_type": "code",
   "execution_count": 5,
   "metadata": {},
   "outputs": [
    {
     "data": {
      "text/plain": [
       "Edges{Primal,12,12,Float64,Array{Float64,1}} data\n",
       "u (in grid orientation)\n",
       "11×12 Array{Float64,2}:\n",
       " 0.0  0.0  0.0   0.0  0.0  0.0  0.0  0.0  0.0  0.0  0.0  0.0\n",
       " 0.0  0.0  0.0   0.0  0.0  0.0  0.0  0.0  0.0  0.0  0.0  0.0\n",
       " 0.0  0.0  0.0   0.0  0.0  0.0  0.0  0.0  0.0  0.0  0.0  0.0\n",
       " 0.0  0.0  0.0   0.0  0.0  0.0  0.0  0.0  0.0  0.0  0.0  0.0\n",
       " 0.0  0.0  0.0   0.0  0.0  0.0  0.0  0.0  0.0  0.0  0.0  0.0\n",
       " 0.0  0.0  0.0   0.0  0.0  0.0  0.0  0.0  0.0  0.0  0.0  0.0\n",
       " 0.0  0.0  0.0   0.0  0.0  0.0  0.0  0.0  0.0  0.0  0.0  0.0\n",
       " 0.0  0.0  0.0  -1.0  0.0  0.0  0.0  0.0  0.0  0.0  0.0  0.0\n",
       " 0.0  0.0  0.0   1.0  0.0  0.0  0.0  0.0  0.0  0.0  0.0  0.0\n",
       " 0.0  0.0  0.0   0.0  0.0  0.0  0.0  0.0  0.0  0.0  0.0  0.0\n",
       " 0.0  0.0  0.0   0.0  0.0  0.0  0.0  0.0  0.0  0.0  0.0  0.0\n",
       "v (in grid orientation)\n",
       "12×11 Array{Float64,2}:\n",
       " 0.0  0.0   0.0  0.0  0.0  0.0  0.0  0.0  0.0  0.0  0.0\n",
       " 0.0  0.0   0.0  0.0  0.0  0.0  0.0  0.0  0.0  0.0  0.0\n",
       " 0.0  0.0   0.0  0.0  0.0  0.0  0.0  0.0  0.0  0.0  0.0\n",
       " 0.0  0.0   0.0  0.0  0.0  0.0  0.0  0.0  0.0  0.0  0.0\n",
       " 0.0  0.0   0.0  0.0  0.0  0.0  0.0  0.0  0.0  0.0  0.0\n",
       " 0.0  0.0   0.0  0.0  0.0  0.0  0.0  0.0  0.0  0.0  0.0\n",
       " 0.0  0.0   0.0  0.0  0.0  0.0  0.0  0.0  0.0  0.0  0.0\n",
       " 0.0  0.0   0.0  0.0  0.0  0.0  0.0  0.0  0.0  0.0  0.0\n",
       " 0.0  0.0  -1.0  1.0  0.0  0.0  0.0  0.0  0.0  0.0  0.0\n",
       " 0.0  0.0   0.0  0.0  0.0  0.0  0.0  0.0  0.0  0.0  0.0\n",
       " 0.0  0.0   0.0  0.0  0.0  0.0  0.0  0.0  0.0  0.0  0.0\n",
       " 0.0  0.0   0.0  0.0  0.0  0.0  0.0  0.0  0.0  0.0  0.0"
      ]
     },
     "execution_count": 5,
     "metadata": {},
     "output_type": "execute_result"
    }
   ],
   "source": [
    "w = Nodes(Dual,(12,12));\n",
    "w[4,4] = 1.0;\n",
    "q = Edges(Primal,w)\n",
    "curl!(q,w)"
   ]
  },
  {
   "cell_type": "code",
   "execution_count": 6,
   "metadata": {},
   "outputs": [
    {
     "data": {
      "text/plain": [
       "Edges{Dual,8,6,Float64,Array{Float64,1}} data\n",
       "u (in grid orientation)\n",
       "6×7 Array{Float64,2}:\n",
       " 0.0  0.0  0.0   0.0  0.0  0.0  0.0\n",
       " 0.0  0.0  0.0   0.0  0.0  0.0  0.0\n",
       " 0.0  0.0  0.0   0.0  0.0  0.0  0.0\n",
       " 0.0  0.0  0.0   0.0  0.0  0.0  0.0\n",
       " 0.0  0.0  0.06  0.0  0.0  0.0  0.0\n",
       " 0.0  0.0  0.0   0.0  0.0  0.0  0.0\n",
       "v (in grid orientation)\n",
       "5×8 Array{Float64,2}:\n",
       " 0.0  0.0  0.0  0.0  0.0  0.0  0.0  0.0\n",
       " 0.0  0.0  0.0  0.0  0.0  0.0  0.0  0.0\n",
       " 0.0  0.0  0.0  0.0  0.0  0.0  0.0  0.0\n",
       " 0.0  0.0  0.0  0.0  0.0  0.0  0.0  0.0\n",
       " 0.0  0.0  0.0  0.0  0.0  0.0  0.0  0.0"
      ]
     },
     "execution_count": 6,
     "metadata": {},
     "output_type": "execute_result"
    }
   ],
   "source": [
    "q = Edges(Dual,(8,6));\n",
    "p = deepcopy(q);\n",
    "q.u[3,2] = 0.3;\n",
    "p.u[3,2] = 0.2;\n",
    "p∘q"
   ]
  },
  {
   "cell_type": "code",
   "execution_count": 7,
   "metadata": {},
   "outputs": [
    {
     "data": {
      "text/plain": [
       "YEdges{Primal,5,4,Float64,Base.ReshapedArray{Float64,2,SubArray{Float64,1,Array{Float64,1},Tuple{UnitRange{Int64}},true},Tuple{}}} data\n",
       "Printing in grid orientation (lower left is (1,1))\n",
       "4×4 Array{Float64,2}:\n",
       " 0.0   0.0   0.0   0.0\n",
       " 9.0  10.0  11.0  12.0\n",
       " 4.0   5.0   6.0   7.0\n",
       " 0.0   0.0   0.0   0.0"
      ]
     },
     "execution_count": 7,
     "metadata": {},
     "output_type": "execute_result"
    }
   ],
   "source": [
    "q = Edges(Dual,(5,4))\n",
    "q.u .= reshape(1:16, 4, 4)\n",
    "q.v .= reshape(1:15, 5, 3)\n",
    "v = Edges(Primal,(5,4))\n",
    "grid_interpolate!(v,q)\n",
    "v.v"
   ]
  },
  {
   "cell_type": "code",
   "execution_count": 78,
   "metadata": {},
   "outputs": [
    {
     "data": {
      "text/plain": [
       "Edges{Primal,8,6,Float64,Array{Float64,1}} data\n",
       "u (in grid orientation)\n",
       "5×8 Array{Float64,2}:\n",
       " 0.0   0.0  0.0  0.0  0.0  0.0  0.0  0.0\n",
       " 0.0   1.0  0.0  0.0  0.0  0.0  0.0  0.0\n",
       " 0.0  -4.0  1.0  0.0  0.0  0.0  0.0  0.0\n",
       " 0.0   1.0  0.0  0.0  0.0  0.0  0.0  0.0\n",
       " 0.0   0.0  0.0  0.0  0.0  0.0  0.0  0.0\n",
       "v (in grid orientation)\n",
       "6×7 Array{Float64,2}:\n",
       " 0.0  0.0  0.0  0.0  0.0  0.0  0.0\n",
       " 0.0  0.0  0.0  0.0  0.0  0.0  0.0\n",
       " 0.0  0.0  0.0  0.0  0.0  0.0  0.0\n",
       " 0.0  0.0  0.0  0.0  0.0  0.0  0.0\n",
       " 0.0  0.0  0.0  0.0  0.0  0.0  0.0\n",
       " 0.0  0.0  0.0  0.0  0.0  0.0  0.0"
      ]
     },
     "execution_count": 78,
     "metadata": {},
     "output_type": "execute_result"
    }
   ],
   "source": [
    "q = Edges(Primal,(8,6))\n",
    "q.u[2,3] = 1.0\n",
    "lapq = similar(q)\n",
    "laplacian!(lapq,q)"
   ]
  },
  {
   "cell_type": "code",
   "execution_count": 79,
   "metadata": {},
   "outputs": [
    {
     "data": {
      "text/plain": [
       "Edges{Primal,8,6,Float64,Array{Float64,1}} data\n",
       "u (in grid orientation)\n",
       "5×8 Array{Float64,2}:\n",
       " 0.0   0.0  0.0  0.0  0.0  0.0  0.0  0.0\n",
       " 0.0   1.0  0.0  0.0  0.0  0.0  0.0  0.0\n",
       " 0.0  -4.0  1.0  0.0  0.0  0.0  0.0  0.0\n",
       " 0.0   1.0  0.0  0.0  0.0  0.0  0.0  0.0\n",
       " 0.0   0.0  0.0  0.0  0.0  0.0  0.0  0.0\n",
       "v (in grid orientation)\n",
       "6×7 Array{Float64,2}:\n",
       " 0.0  0.0  0.0  0.0  0.0  0.0  0.0\n",
       " 0.0  0.0  0.0  0.0  0.0  0.0  0.0\n",
       " 0.0  0.0  0.0  0.0  0.0  0.0  0.0\n",
       " 0.0  0.0  0.0  0.0  0.0  0.0  0.0\n",
       " 0.0  0.0  0.0  0.0  0.0  0.0  0.0\n",
       " 0.0  0.0  0.0  0.0  0.0  0.0  0.0"
      ]
     },
     "execution_count": 79,
     "metadata": {},
     "output_type": "execute_result"
    }
   ],
   "source": [
    "divergence!(lapq,grad(q))"
   ]
  },
  {
   "cell_type": "code",
   "execution_count": 11,
   "metadata": {},
   "outputs": [
    {
     "data": {
      "text/plain": [
       "Integrating factor with parameter 2.5 on a (nx = 250, ny = 250) grid"
      ]
     },
     "execution_count": 11,
     "metadata": {},
     "output_type": "execute_result"
    }
   ],
   "source": [
    "nx = 250; ny = 250;\n",
    "i = 40; j = 50;\n",
    "w = Nodes(Dual,(nx,ny))\n",
    "w[i,j] = 1.0\n",
    "E = plan_intfact(5,w)\n",
    "E25 = plan_intfact(2.5,w)"
   ]
  },
  {
   "cell_type": "code",
   "execution_count": 12,
   "metadata": {},
   "outputs": [
    {
     "data": {
      "text/plain": [
       "true"
      ]
     },
     "execution_count": 12,
     "metadata": {},
     "output_type": "execute_result"
    }
   ],
   "source": [
    "E25*(E25*w)≈E*w"
   ]
  },
  {
   "cell_type": "code",
   "execution_count": 14,
   "metadata": {},
   "outputs": [
    {
     "name": "stdout",
     "output_type": "stream",
     "text": [
      "  0.003100 seconds (7 allocations: 976.859 KiB)\n"
     ]
    }
   ],
   "source": [
    "@time E*w;"
   ]
  },
  {
   "cell_type": "code",
   "execution_count": 15,
   "metadata": {},
   "outputs": [
    {
     "data": {
      "image/png": "[encoded data removed]"
     },
     "execution_count": 15,
     "metadata": {},
     "output_type": "execute_result"
    }
   ],
   "source": [
    "plot(E*w)"
   ]
  },
  {
   "cell_type": "code",
   "execution_count": 16,
   "metadata": {},
   "outputs": [
    {
     "data": {
      "text/plain": [
       "1.0"
      ]
     },
     "execution_count": 16,
     "metadata": {},
     "output_type": "execute_result"
    }
   ],
   "source": [
    "cellzero = Nodes(Dual,(nx,ny))\n",
    "nodezero = Nodes(Primal,cellzero)\n",
    "facezero = Edges(Primal,cellzero)\n",
    "dualfacezero = Edges(Dual,cellzero)\n",
    "\n",
    "cellunit = deepcopy(cellzero)\n",
    "cellunit[i,j] = 1.0"
   ]
  },
  {
   "cell_type": "code",
   "execution_count": 17,
   "metadata": {},
   "outputs": [
    {
     "data": {
      "image/png": "[encoded data removed]"
     },
     "execution_count": 17,
     "metadata": {},
     "output_type": "execute_result"
    }
   ],
   "source": [
    "w = Nodes(Dual,(50,10));\n",
    "w[20,5] = 1.0\n",
    "L = plan_laplacian(w,with_inverse=true)\n",
    "plot(L\\w)"
   ]
  },
  {
   "cell_type": "code",
   "execution_count": 18,
   "metadata": {},
   "outputs": [
    {
     "data": {
      "text/plain": [
       "Nodes{Dual,50,10,Float64,Array{Float64,2}} data\n",
       "Printing in grid orientation (lower left is (1,1))\n",
       "10×50 Array{Float64,2}:\n",
       " 0.0   0.0           0.0          …   0.0           0.0          0.0\n",
       " 0.0   0.0          -4.44089e-16      0.0           1.33227e-15  0.0\n",
       " 0.0   1.77636e-15  -4.44089e-16     -8.88178e-16   0.0          0.0\n",
       " 0.0   0.0          -1.11022e-15      1.33227e-15  -1.33227e-15  0.0\n",
       " 0.0   1.33227e-15  -4.44089e-16      0.0           1.33227e-15  0.0\n",
       " 0.0  -4.44089e-16  -1.33227e-15  …  -8.88178e-16  -8.88178e-16  0.0\n",
       " 0.0   1.33227e-15  -2.22045e-16      0.0           1.33227e-15  0.0\n",
       " 0.0  -2.22045e-16  -4.44089e-16      4.44089e-16  -1.77636e-15  0.0\n",
       " 0.0   1.77636e-15  -2.22045e-16     -8.88178e-16   0.0          0.0\n",
       " 0.0   0.0           0.0              0.0           0.0          0.0"
      ]
     },
     "execution_count": 18,
     "metadata": {},
     "output_type": "execute_result"
    }
   ],
   "source": [
    "laplacian(L\\w)"
   ]
  },
  {
   "cell_type": "code",
   "execution_count": 19,
   "metadata": {},
   "outputs": [
    {
     "data": {
      "text/plain": [
       "Integrating factor with parameter 1.0 on a (nx = 250, ny = 250) grid"
      ]
     },
     "execution_count": 19,
     "metadata": {},
     "output_type": "execute_result"
    }
   ],
   "source": [
    "E = plan_intfact(1.0,(nx,ny))"
   ]
  },
  {
   "cell_type": "code",
   "execution_count": 20,
   "metadata": {},
   "outputs": [
    {
     "data": {
      "text/plain": [
       "In-place integrating factor with parameter 1.0 on a (nx = 250, ny = 250) grid"
      ]
     },
     "execution_count": 20,
     "metadata": {},
     "output_type": "execute_result"
    }
   ],
   "source": [
    "E! = plan_intfact!(1.0,(nx,ny))"
   ]
  },
  {
   "cell_type": "code",
   "execution_count": 21,
   "metadata": {},
   "outputs": [
    {
     "data": {
      "text/plain": [
       "Nodes{Dual,250,250,Float64,Array{Float64,2}} data\n",
       "Printing in grid orientation (lower left is (1,1))\n",
       "250×250 Array{Float64,2}:\n",
       " 0.0  0.0  0.0  0.0  0.0  0.0  0.0  0.0  …  0.0  0.0  0.0  0.0  0.0  0.0  0.0\n",
       " 0.0  0.0  0.0  0.0  0.0  0.0  0.0  0.0     0.0  0.0  0.0  0.0  0.0  0.0  0.0\n",
       " 0.0  0.0  0.0  0.0  0.0  0.0  0.0  0.0     0.0  0.0  0.0  0.0  0.0  0.0  0.0\n",
       " 0.0  0.0  0.0  0.0  0.0  0.0  0.0  0.0     0.0  0.0  0.0  0.0  0.0  0.0  0.0\n",
       " 0.0  0.0  0.0  0.0  0.0  0.0  0.0  0.0     0.0  0.0  0.0  0.0  0.0  0.0  0.0\n",
       " 0.0  0.0  0.0  0.0  0.0  0.0  0.0  0.0  …  0.0  0.0  0.0  0.0  0.0  0.0  0.0\n",
       " 0.0  0.0  0.0  0.0  0.0  0.0  0.0  0.0     0.0  0.0  0.0  0.0  0.0  0.0  0.0\n",
       " 0.0  0.0  0.0  0.0  0.0  0.0  0.0  0.0     0.0  0.0  0.0  0.0  0.0  0.0  0.0\n",
       " 0.0  0.0  0.0  0.0  0.0  0.0  0.0  0.0     0.0  0.0  0.0  0.0  0.0  0.0  0.0\n",
       " 0.0  0.0  0.0  0.0  0.0  0.0  0.0  0.0     0.0  0.0  0.0  0.0  0.0  0.0  0.0\n",
       " 0.0  0.0  0.0  0.0  0.0  0.0  0.0  0.0  …  0.0  0.0  0.0  0.0  0.0  0.0  0.0\n",
       " 0.0  0.0  0.0  0.0  0.0  0.0  0.0  0.0     0.0  0.0  0.0  0.0  0.0  0.0  0.0\n",
       " 0.0  0.0  0.0  0.0  0.0  0.0  0.0  0.0     0.0  0.0  0.0  0.0  0.0  0.0  0.0\n",
       " ⋮                        ⋮              ⋱            ⋮                   \n",
       " 0.0  0.0  0.0  0.0  0.0  0.0  0.0  0.0     0.0  0.0  0.0  0.0  0.0  0.0  0.0\n",
       " 0.0  0.0  0.0  0.0  0.0  0.0  0.0  0.0     0.0  0.0  0.0  0.0  0.0  0.0  0.0\n",
       " 0.0  0.0  0.0  0.0  0.0  0.0  0.0  0.0  …  0.0  0.0  0.0  0.0  0.0  0.0  0.0\n",
       " 0.0  0.0  0.0  0.0  0.0  0.0  0.0  0.0     0.0  0.0  0.0  0.0  0.0  0.0  0.0\n",
       " 0.0  0.0  0.0  0.0  0.0  0.0  0.0  0.0     0.0  0.0  0.0  0.0  0.0  0.0  0.0\n",
       " 0.0  0.0  0.0  0.0  0.0  0.0  0.0  0.0     0.0  0.0  0.0  0.0  0.0  0.0  0.0\n",
       " 0.0  0.0  0.0  0.0  0.0  0.0  0.0  0.0     0.0  0.0  0.0  0.0  0.0  0.0  0.0\n",
       " 0.0  0.0  0.0  0.0  0.0  0.0  0.0  0.0  …  0.0  0.0  0.0  0.0  0.0  0.0  0.0\n",
       " 0.0  0.0  0.0  0.0  0.0  0.0  0.0  0.0     0.0  0.0  0.0  0.0  0.0  0.0  0.0\n",
       " 0.0  0.0  0.0  0.0  0.0  0.0  0.0  0.0     0.0  0.0  0.0  0.0  0.0  0.0  0.0\n",
       " 0.0  0.0  0.0  0.0  0.0  0.0  0.0  0.0     0.0  0.0  0.0  0.0  0.0  0.0  0.0\n",
       " 0.0  0.0  0.0  0.0  0.0  0.0  0.0  0.0     0.0  0.0  0.0  0.0  0.0  0.0  0.0"
      ]
     },
     "execution_count": 21,
     "metadata": {},
     "output_type": "execute_result"
    }
   ],
   "source": [
    "w = deepcopy(cellunit)"
   ]
  },
  {
   "cell_type": "code",
   "execution_count": 22,
   "metadata": {},
   "outputs": [
    {
     "data": {
      "image/png": "[encoded data removed]"
     },
     "execution_count": 22,
     "metadata": {},
     "output_type": "execute_result"
    }
   ],
   "source": [
    "plot(E!*w)"
   ]
  },
  {
   "cell_type": "code",
   "execution_count": 23,
   "metadata": {},
   "outputs": [
    {
     "data": {
      "text/plain": [
       "Edges{Primal,250,250,Float64,Array{Float64,1}} data\n",
       "u (in grid orientation)\n",
       "249×250 Array{Float64,2}:\n",
       " -1.2982e-19   -4.25914e-19  -5.76634e-19  …   4.06862e-19   4.11267e-19\n",
       " -2.14748e-19  -2.62859e-20   1.8976e-19      -3.55572e-19  -3.92293e-19\n",
       " -1.02425e-19  -1.60016e-21   3.19069e-20     -5.04038e-21   8.87857e-20\n",
       " -2.48871e-20  -3.67976e-20  -6.75932e-20     -8.69576e-20  -8.9441e-20\n",
       "  1.23653e-19   1.16495e-19   9.12288e-20     -2.86131e-20  -7.32539e-20\n",
       "  6.0425e-20    5.57571e-20   3.24559e-20  …   9.24512e-20   9.54643e-20\n",
       " -2.21608e-20  -1.98799e-20  -6.1693e-21       6.83908e-20   5.17228e-20\n",
       " -6.11708e-20  -6.56905e-20  -3.10291e-20     -1.56076e-19  -1.6233e-19\n",
       "  8.03874e-20   8.29694e-20   3.61907e-20      5.6343e-21    1.67023e-20\n",
       " -7.44393e-20  -3.15623e-20   4.53056e-20      8.8109e-20    3.06119e-20\n",
       "  7.50733e-20   3.61758e-20  -6.58066e-20  …   1.03421e-19   2.09663e-19\n",
       " -2.87639e-20  -5.36255e-20  -5.1137e-20       9.71387e-20   6.0215e-20\n",
       " -1.40742e-19  -1.58066e-19  -1.49528e-19     -9.31327e-20  -1.18159e-19\n",
       "  ⋮                                        ⋱                \n",
       "  1.76653e-19   1.39463e-19   8.77352e-20     -1.63274e-19  -1.60217e-19\n",
       "  2.15496e-19   1.83338e-19   4.08786e-20      6.41573e-20  -4.99429e-20\n",
       " -4.41561e-20  -2.21456e-19  -2.68152e-19     -2.68926e-20  -6.41024e-20\n",
       " -1.78939e-19  -7.20861e-20   3.03037e-21  …  -1.68366e-20   7.78334e-20\n",
       " -9.40521e-20   2.38074e-20   1.94728e-19      1.76082e-19   2.26426e-19\n",
       "  6.04471e-20   2.91699e-20  -7.8456e-21      -3.63892e-20   1.15923e-21\n",
       " -7.19903e-20  -1.43392e-20   1.20857e-20     -3.47356e-20  -3.3475e-20\n",
       "  5.62428e-20   2.63401e-20  -9.13963e-21      6.80161e-20   8.46205e-20\n",
       " -2.8148e-20   -3.8504e-20   -5.07536e-20  …  -1.0216e-19   -1.12975e-19\n",
       "  6.95791e-20   1.00542e-19   1.38199e-19      1.44767e-20  -1.30153e-20\n",
       " -5.74065e-20  -1.12881e-19  -1.78754e-19     -3.29e-20     -7.31235e-20\n",
       " -6.71876e-20  -1.09284e-19  -8.89775e-20      7.99427e-20   1.19625e-19\n",
       "v (in grid orientation)\n",
       "250×249 Array{Float64,2}:\n",
       "  2.37374e-20  -3.49509e-20   1.19529e-19  …  -5.37382e-20  -2.74878e-20\n",
       " -2.72356e-19  -1.85672e-19   9.20881e-20     -1.80287e-20  -2.30829e-20\n",
       " -8.38941e-20   3.03742e-20   1.38533e-19     -9.26909e-20  -5.98042e-20\n",
       "  1.69312e-20   6.38812e-20   4.03563e-20     -3.60347e-20   3.40219e-20\n",
       "  5.02068e-21   3.30856e-20   2.96074e-20     -7.55857e-20   3.15385e-20\n",
       " -2.13783e-21   7.81963e-21  -1.00692e-20  …  -2.25728e-20  -1.31023e-20\n",
       " -6.80575e-21  -1.54816e-20  -2.18811e-20     -5.30367e-20  -1.00892e-20\n",
       " -4.52488e-21  -1.771e-21    -3.44932e-21     -1.68998e-20  -2.67572e-20\n",
       " -9.04454e-21   3.28904e-20   3.13634e-20     -3.77565e-20  -3.30111e-20\n",
       " -6.46254e-21  -1.38884e-20   1.1329e-20      -3.53228e-20  -2.19432e-20\n",
       "  3.64145e-20   6.29794e-20   5.56095e-20  …  -6.06035e-20  -7.94403e-20\n",
       " -2.48298e-21  -3.90029e-20  -3.35354e-20      4.67204e-20   2.68014e-20\n",
       " -2.73446e-20  -3.65145e-20  -1.91002e-20      4.24591e-20  -1.01222e-20\n",
       "  ⋮                                        ⋱                \n",
       " -1.36562e-20  -1.95964e-20  -6.51993e-20     -3.72983e-20  -1.17947e-20\n",
       " -4.5814e-20   -1.62056e-19  -1.43698e-19     -1.53692e-19  -1.25895e-19\n",
       " -2.23114e-19  -2.08752e-19  -1.06229e-19  …  -1.7891e-19   -1.63105e-19\n",
       " -1.16261e-19  -1.33635e-19  -4.59828e-20     -1.41388e-19  -6.84347e-20\n",
       "  1.59857e-21   3.72857e-20   8.51688e-21     -4.093e-20    -1.80909e-20\n",
       " -2.96786e-20   2.70202e-22   1.17779e-20      3.88347e-20   1.94575e-20\n",
       "  2.79726e-20   2.6695e-20    4.06819e-20      1.86487e-20   2.07181e-20\n",
       " -1.93018e-21  -8.78465e-21  -3.62207e-20  …   9.56916e-20   3.73226e-20\n",
       " -1.22862e-20  -2.10342e-20   2.9659e-20       2.26981e-20   2.6507e-20\n",
       "  1.86765e-20   1.66227e-20   1.93593e-20      1.68546e-20  -9.84926e-22\n",
       " -3.67975e-20  -4.92508e-20  -4.91513e-20      2.45815e-20  -4.12085e-20\n",
       " -7.88941e-20  -2.89441e-20   3.88386e-20      1.53549e-20  -1.52623e-21"
      ]
     },
     "execution_count": 23,
     "metadata": {},
     "output_type": "execute_result"
    }
   ],
   "source": [
    "C = Curl()\n",
    "C*w"
   ]
  },
  {
   "cell_type": "code",
   "execution_count": 24,
   "metadata": {},
   "outputs": [
    {
     "data": {
      "text/plain": [
       "Nodes{Primal,250,250,Float64,Array{Float64,2}} data\n",
       "Printing in grid orientation (lower left is (1,1))\n",
       "249×249 Array{Float64,2}:\n",
       " 0.0  0.0  0.0  0.0  0.0  0.0  0.0  0.0  …  0.0  0.0  0.0  0.0  0.0  0.0  0.0\n",
       " 0.0  0.0  0.0  0.0  0.0  0.0  0.0  0.0     0.0  0.0  0.0  0.0  0.0  0.0  0.0\n",
       " 0.0  0.0  0.0  0.0  0.0  0.0  0.0  0.0     0.0  0.0  0.0  0.0  0.0  0.0  0.0\n",
       " 0.0  0.0  0.0  0.0  0.0  0.0  0.0  0.0     0.0  0.0  0.0  0.0  0.0  0.0  0.0\n",
       " 0.0  0.0  0.0  0.0  0.0  0.0  0.0  0.0     0.0  0.0  0.0  0.0  0.0  0.0  0.0\n",
       " 0.0  0.0  0.0  0.0  0.0  0.0  0.0  0.0  …  0.0  0.0  0.0  0.0  0.0  0.0  0.0\n",
       " 0.0  0.0  0.0  0.0  0.0  0.0  0.0  0.0     0.0  0.0  0.0  0.0  0.0  0.0  0.0\n",
       " 0.0  0.0  0.0  0.0  0.0  0.0  0.0  0.0     0.0  0.0  0.0  0.0  0.0  0.0  0.0\n",
       " 0.0  0.0  0.0  0.0  0.0  0.0  0.0  0.0     0.0  0.0  0.0  0.0  0.0  0.0  0.0\n",
       " 0.0  0.0  0.0  0.0  0.0  0.0  0.0  0.0     0.0  0.0  0.0  0.0  0.0  0.0  0.0\n",
       " 0.0  0.0  0.0  0.0  0.0  0.0  0.0  0.0  …  0.0  0.0  0.0  0.0  0.0  0.0  0.0\n",
       " 0.0  0.0  0.0  0.0  0.0  0.0  0.0  0.0     0.0  0.0  0.0  0.0  0.0  0.0  0.0\n",
       " 0.0  0.0  0.0  0.0  0.0  0.0  0.0  0.0     0.0  0.0  0.0  0.0  0.0  0.0  0.0\n",
       " ⋮                        ⋮              ⋱                 ⋮              \n",
       " 0.0  0.0  0.0  0.0  0.0  0.0  0.0  0.0     0.0  0.0  0.0  0.0  0.0  0.0  0.0\n",
       " 0.0  0.0  0.0  0.0  0.0  0.0  0.0  0.0     0.0  0.0  0.0  0.0  0.0  0.0  0.0\n",
       " 0.0  0.0  0.0  0.0  0.0  0.0  0.0  0.0     0.0  0.0  0.0  0.0  0.0  0.0  0.0\n",
       " 0.0  0.0  0.0  0.0  0.0  0.0  0.0  0.0  …  0.0  0.0  0.0  0.0  0.0  0.0  0.0\n",
       " 0.0  0.0  0.0  0.0  0.0  0.0  0.0  0.0     0.0  0.0  0.0  0.0  0.0  0.0  0.0\n",
       " 0.0  0.0  0.0  0.0  0.0  0.0  0.0  0.0     0.0  0.0  0.0  0.0  0.0  0.0  0.0\n",
       " 0.0  0.0  0.0  0.0  0.0  0.0  0.0  0.0     0.0  0.0  0.0  0.0  0.0  0.0  0.0\n",
       " 0.0  0.0  0.0  0.0  0.0  0.0  0.0  0.0     0.0  0.0  0.0  0.0  0.0  0.0  0.0\n",
       " 0.0  0.0  0.0  0.0  0.0  0.0  0.0  0.0  …  0.0  0.0  0.0  0.0  0.0  0.0  0.0\n",
       " 0.0  0.0  0.0  0.0  0.0  0.0  0.0  0.0     0.0  0.0  0.0  0.0  0.0  0.0  0.0\n",
       " 0.0  0.0  0.0  0.0  0.0  0.0  0.0  0.0     0.0  0.0  0.0  0.0  0.0  0.0  0.0\n",
       " 0.0  0.0  0.0  0.0  0.0  0.0  0.0  0.0     0.0  0.0  0.0  0.0  0.0  0.0  0.0"
      ]
     },
     "execution_count": 24,
     "metadata": {},
     "output_type": "execute_result"
    }
   ],
   "source": [
    "Nodes(Primal,cellunit)"
   ]
  },
  {
   "cell_type": "code",
   "execution_count": 30,
   "metadata": {},
   "outputs": [
    {
     "data": {
      "text/plain": [
       "XEdges{Primal,5,4,Float64,Array{Float64,2}} data\n",
       "Printing in grid orientation (lower left is (1,1))\n",
       "3×5 Array{Float64,2}:\n",
       " 0.0  14.5  15.5  16.5  0.0\n",
       " 0.0   9.5  10.5  11.5  0.0\n",
       " 0.0   4.5   5.5   6.5  0.0"
      ]
     },
     "execution_count": 30,
     "metadata": {},
     "output_type": "execute_result"
    }
   ],
   "source": [
    "w = Nodes(Dual, 5, 4)\n",
    "w .= reshape(1:20, 5, 4)\n",
    "Ww = XEdges(Primal,w)\n",
    "grid_interpolate!(Ww,w)"
   ]
  },
  {
   "cell_type": "code",
   "execution_count": 31,
   "metadata": {},
   "outputs": [
    {
     "data": {
      "text/plain": [
       "Nodes{Primal,5,4,Float64,Array{Float64,2}} data\n",
       "Printing in grid orientation (lower left is (1,1))\n",
       "3×4 Array{Float64,2}:\n",
       " 0.0  0.0  0.0  0.0\n",
       " 0.0  0.0  0.0  0.0\n",
       " 0.0  0.0  0.0  0.0"
      ]
     },
     "execution_count": 31,
     "metadata": {},
     "output_type": "execute_result"
    }
   ],
   "source": [
    "s = Nodes(Dual,5,4)\n",
    "s .= rand(5, 4)\n",
    "divergence(curl(s))"
   ]
  },
  {
   "cell_type": "code",
   "execution_count": 32,
   "metadata": {},
   "outputs": [
    {
     "data": {
      "text/plain": [
       "Nodes{Dual,12,12,Float64,Array{Float64,2}} data\n",
       "Printing in grid orientation (lower left is (1,1))\n",
       "12×12 Array{Float64,2}:\n",
       " 0.0  0.0  0.0  0.0  0.0  0.0  0.0  0.0  0.0  0.0  0.0  0.0\n",
       " 0.0  0.0  0.0  0.0  0.0  0.0  0.0  0.0  0.0  0.0  0.0  0.0\n",
       " 0.0  0.0  0.0  0.0  0.0  0.0  0.0  0.0  0.0  0.0  0.0  0.0\n",
       " 0.0  0.0  0.0  0.0  0.0  0.0  0.0  0.0  0.0  0.0  0.0  0.0\n",
       " 0.0  0.0  0.0  0.0  0.0  0.0  0.0  0.0  0.0  0.0  0.0  0.0\n",
       " 0.0  0.0  0.0  0.0  0.0  0.0  0.0  0.0  0.0  0.0  0.0  0.0\n",
       " 0.0  0.0  0.0  0.0  0.0  0.0  0.0  0.0  0.0  0.0  0.0  0.0\n",
       " 0.0  0.0  0.0  1.0  0.0  0.0  0.0  0.0  0.0  0.0  0.0  0.0\n",
       " 0.0  0.0  0.0  0.0  0.0  0.0  0.0  0.0  0.0  0.0  0.0  0.0\n",
       " 0.0  0.0  0.0  0.0  0.0  0.0  0.0  0.0  0.0  0.0  0.0  0.0\n",
       " 0.0  0.0  0.0  0.0  0.0  0.0  0.0  0.0  0.0  0.0  0.0  0.0\n",
       " 0.0  0.0  0.0  0.0  0.0  0.0  0.0  0.0  0.0  0.0  0.0  0.0"
      ]
     },
     "execution_count": 32,
     "metadata": {},
     "output_type": "execute_result"
    }
   ],
   "source": [
    "v = Nodes(Dual,(12,12))\n",
    "v[4,5] = 1.0\n",
    "v"
   ]
  },
  {
   "cell_type": "code",
   "execution_count": 33,
   "metadata": {},
   "outputs": [
    {
     "data": {
      "text/plain": [
       "Edges{Primal,250,250,Float64,Array{Float64,1}} data\n",
       "u (in grid orientation)\n",
       "249×250 Array{Float64,2}:\n",
       " 1.0  1.0  1.0  1.0  1.0  1.0  1.0  1.0  …  1.0  1.0  1.0  1.0  1.0  1.0  1.0\n",
       " 1.0  1.0  1.0  1.0  1.0  1.0  1.0  1.0     1.0  1.0  1.0  1.0  1.0  1.0  1.0\n",
       " 1.0  1.0  1.0  1.0  1.0  1.0  1.0  1.0     1.0  1.0  1.0  1.0  1.0  1.0  1.0\n",
       " 1.0  1.0  1.0  1.0  1.0  1.0  1.0  1.0     1.0  1.0  1.0  1.0  1.0  1.0  1.0\n",
       " 1.0  1.0  1.0  1.0  1.0  1.0  1.0  1.0     1.0  1.0  1.0  1.0  1.0  1.0  1.0\n",
       " 1.0  1.0  1.0  1.0  1.0  1.0  1.0  1.0  …  1.0  1.0  1.0  1.0  1.0  1.0  1.0\n",
       " 1.0  1.0  1.0  1.0  1.0  1.0  1.0  1.0     1.0  1.0  1.0  1.0  1.0  1.0  1.0\n",
       " 1.0  1.0  1.0  1.0  1.0  1.0  1.0  1.0     1.0  1.0  1.0  1.0  1.0  1.0  1.0\n",
       " 1.0  1.0  1.0  1.0  1.0  1.0  1.0  1.0     1.0  1.0  1.0  1.0  1.0  1.0  1.0\n",
       " 1.0  1.0  1.0  1.0  1.0  1.0  1.0  1.0     1.0  1.0  1.0  1.0  1.0  1.0  1.0\n",
       " 1.0  1.0  1.0  1.0  1.0  1.0  1.0  1.0  …  1.0  1.0  1.0  1.0  1.0  1.0  1.0\n",
       " 1.0  1.0  1.0  1.0  1.0  1.0  1.0  1.0     1.0  1.0  1.0  1.0  1.0  1.0  1.0\n",
       " 1.0  1.0  1.0  1.0  1.0  1.0  1.0  1.0     1.0  1.0  1.0  1.0  1.0  1.0  1.0\n",
       " ⋮                        ⋮              ⋱            ⋮                   \n",
       " 1.0  1.0  1.0  1.0  1.0  1.0  1.0  1.0     1.0  1.0  1.0  1.0  1.0  1.0  1.0\n",
       " 1.0  1.0  1.0  1.0  1.0  1.0  1.0  1.0     1.0  1.0  1.0  1.0  1.0  1.0  1.0\n",
       " 1.0  1.0  1.0  1.0  1.0  1.0  1.0  1.0     1.0  1.0  1.0  1.0  1.0  1.0  1.0\n",
       " 1.0  1.0  1.0  1.0  1.0  1.0  1.0  1.0  …  1.0  1.0  1.0  1.0  1.0  1.0  1.0\n",
       " 1.0  1.0  1.0  1.0  1.0  1.0  1.0  1.0     1.0  1.0  1.0  1.0  1.0  1.0  1.0\n",
       " 1.0  1.0  1.0  1.0  1.0  1.0  1.0  1.0     1.0  1.0  1.0  1.0  1.0  1.0  1.0\n",
       " 1.0  1.0  1.0  1.0  1.0  1.0  1.0  1.0     1.0  1.0  1.0  1.0  1.0  1.0  1.0\n",
       " 1.0  1.0  1.0  1.0  1.0  1.0  1.0  1.0     1.0  1.0  1.0  1.0  1.0  1.0  1.0\n",
       " 1.0  1.0  1.0  1.0  1.0  1.0  1.0  1.0  …  1.0  1.0  1.0  1.0  1.0  1.0  1.0\n",
       " 1.0  1.0  1.0  1.0  1.0  1.0  1.0  1.0     1.0  1.0  1.0  1.0  1.0  1.0  1.0\n",
       " 1.0  1.0  1.0  1.0  1.0  1.0  1.0  1.0     1.0  1.0  1.0  1.0  1.0  1.0  1.0\n",
       " 1.0  1.0  1.0  1.0  1.0  1.0  1.0  1.0     1.0  1.0  1.0  1.0  1.0  1.0  1.0\n",
       "v (in grid orientation)\n",
       "250×249 Array{Float64,2}:\n",
       " 1.0  1.0  1.0  1.0  1.0  1.0  1.0  1.0  …  1.0  1.0  1.0  1.0  1.0  1.0  1.0\n",
       " 1.0  1.0  1.0  1.0  1.0  1.0  1.0  1.0     1.0  1.0  1.0  1.0  1.0  1.0  1.0\n",
       " 1.0  1.0  1.0  1.0  1.0  1.0  1.0  1.0     1.0  1.0  1.0  1.0  1.0  1.0  1.0\n",
       " 1.0  1.0  1.0  1.0  1.0  1.0  1.0  1.0     1.0  1.0  1.0  1.0  1.0  1.0  1.0\n",
       " 1.0  1.0  1.0  1.0  1.0  1.0  1.0  1.0     1.0  1.0  1.0  1.0  1.0  1.0  1.0\n",
       " 1.0  1.0  1.0  1.0  1.0  1.0  1.0  1.0  …  1.0  1.0  1.0  1.0  1.0  1.0  1.0\n",
       " 1.0  1.0  1.0  1.0  1.0  1.0  1.0  1.0     1.0  1.0  1.0  1.0  1.0  1.0  1.0\n",
       " 1.0  1.0  1.0  1.0  1.0  1.0  1.0  1.0     1.0  1.0  1.0  1.0  1.0  1.0  1.0\n",
       " 1.0  1.0  1.0  1.0  1.0  1.0  1.0  1.0     1.0  1.0  1.0  1.0  1.0  1.0  1.0\n",
       " 1.0  1.0  1.0  1.0  1.0  1.0  1.0  1.0     1.0  1.0  1.0  1.0  1.0  1.0  1.0\n",
       " 1.0  1.0  1.0  1.0  1.0  1.0  1.0  1.0  …  1.0  1.0  1.0  1.0  1.0  1.0  1.0\n",
       " 1.0  1.0  1.0  1.0  1.0  1.0  1.0  1.0     1.0  1.0  1.0  1.0  1.0  1.0  1.0\n",
       " 1.0  1.0  1.0  1.0  1.0  1.0  1.0  1.0     1.0  1.0  1.0  1.0  1.0  1.0  1.0\n",
       " ⋮                        ⋮              ⋱                 ⋮              \n",
       " 1.0  1.0  1.0  1.0  1.0  1.0  1.0  1.0     1.0  1.0  1.0  1.0  1.0  1.0  1.0\n",
       " 1.0  1.0  1.0  1.0  1.0  1.0  1.0  1.0     1.0  1.0  1.0  1.0  1.0  1.0  1.0\n",
       " 1.0  1.0  1.0  1.0  1.0  1.0  1.0  1.0  …  1.0  1.0  1.0  1.0  1.0  1.0  1.0\n",
       " 1.0  1.0  1.0  1.0  1.0  1.0  1.0  1.0     1.0  1.0  1.0  1.0  1.0  1.0  1.0\n",
       " 1.0  1.0  1.0  1.0  1.0  1.0  1.0  1.0     1.0  1.0  1.0  1.0  1.0  1.0  1.0\n",
       " 1.0  1.0  1.0  1.0  1.0  1.0  1.0  1.0     1.0  1.0  1.0  1.0  1.0  1.0  1.0\n",
       " 1.0  1.0  1.0  1.0  1.0  1.0  1.0  1.0     1.0  1.0  1.0  1.0  1.0  1.0  1.0\n",
       " 1.0  1.0  1.0  1.0  1.0  1.0  1.0  1.0  …  1.0  1.0  1.0  1.0  1.0  1.0  1.0\n",
       " 1.0  1.0  1.0  1.0  1.0  1.0  1.0  1.0     1.0  1.0  1.0  1.0  1.0  1.0  1.0\n",
       " 1.0  1.0  1.0  1.0  1.0  1.0  1.0  1.0     1.0  1.0  1.0  1.0  1.0  1.0  1.0\n",
       " 1.0  1.0  1.0  1.0  1.0  1.0  1.0  1.0     1.0  1.0  1.0  1.0  1.0  1.0  1.0\n",
       " 1.0  1.0  1.0  1.0  1.0  1.0  1.0  1.0     1.0  1.0  1.0  1.0  1.0  1.0  1.0"
      ]
     },
     "execution_count": 33,
     "metadata": {},
     "output_type": "execute_result"
    }
   ],
   "source": [
    "faceones = deepcopy(facezero)\n",
    "fill!(faceones,1.0)"
   ]
  },
  {
   "cell_type": "code",
   "execution_count": 34,
   "metadata": {},
   "outputs": [
    {
     "data": {
      "text/plain": [
       "Edges{Primal,12,12,Float64,Array{Float64,1}} data\n",
       "u (in grid orientation)\n",
       "11×12 Array{Float64,2}:\n",
       " 0.0  0.0  0.0  0.0   0.0  0.0  0.0  0.0  0.0  0.0  0.0  0.0\n",
       " 0.0  0.0  0.0  0.0   0.0  0.0  0.0  0.0  0.0  0.0  0.0  0.0\n",
       " 0.0  0.0  0.0  0.0   0.0  0.0  0.0  0.0  0.0  0.0  0.0  0.0\n",
       " 0.0  0.0  0.0  0.0   0.0  0.0  0.0  0.0  0.0  0.0  0.0  0.0\n",
       " 0.0  0.0  0.0  0.0   0.0  0.0  0.0  0.0  0.0  0.0  0.0  0.0\n",
       " 0.0  0.0  0.0  0.0   0.0  0.0  0.0  0.0  0.0  0.0  0.0  0.0\n",
       " 0.0  0.0  0.0  1.0  -1.0  0.0  0.0  0.0  0.0  0.0  0.0  0.0\n",
       " 0.0  0.0  0.0  0.0   0.0  0.0  0.0  0.0  0.0  0.0  0.0  0.0\n",
       " 0.0  0.0  0.0  0.0   0.0  0.0  0.0  0.0  0.0  0.0  0.0  0.0\n",
       " 0.0  0.0  0.0  0.0   0.0  0.0  0.0  0.0  0.0  0.0  0.0  0.0\n",
       " 0.0  0.0  0.0  0.0   0.0  0.0  0.0  0.0  0.0  0.0  0.0  0.0\n",
       "v (in grid orientation)\n",
       "12×11 Array{Float64,2}:\n",
       " 0.0  0.0  0.0   0.0  0.0  0.0  0.0  0.0  0.0  0.0  0.0\n",
       " 0.0  0.0  0.0   0.0  0.0  0.0  0.0  0.0  0.0  0.0  0.0\n",
       " 0.0  0.0  0.0   0.0  0.0  0.0  0.0  0.0  0.0  0.0  0.0\n",
       " 0.0  0.0  0.0   0.0  0.0  0.0  0.0  0.0  0.0  0.0  0.0\n",
       " 0.0  0.0  0.0   0.0  0.0  0.0  0.0  0.0  0.0  0.0  0.0\n",
       " 0.0  0.0  0.0   0.0  0.0  0.0  0.0  0.0  0.0  0.0  0.0\n",
       " 0.0  0.0  0.0  -1.0  0.0  0.0  0.0  0.0  0.0  0.0  0.0\n",
       " 0.0  0.0  0.0   1.0  0.0  0.0  0.0  0.0  0.0  0.0  0.0\n",
       " 0.0  0.0  0.0   0.0  0.0  0.0  0.0  0.0  0.0  0.0  0.0\n",
       " 0.0  0.0  0.0   0.0  0.0  0.0  0.0  0.0  0.0  0.0  0.0\n",
       " 0.0  0.0  0.0   0.0  0.0  0.0  0.0  0.0  0.0  0.0  0.0\n",
       " 0.0  0.0  0.0   0.0  0.0  0.0  0.0  0.0  0.0  0.0  0.0"
      ]
     },
     "execution_count": 34,
     "metadata": {},
     "output_type": "execute_result"
    }
   ],
   "source": [
    "w = Nodes(Primal,v)\n",
    "w[4,5] = 1.0\n",
    "grad(w)"
   ]
  },
  {
   "cell_type": "code",
   "execution_count": 35,
   "metadata": {},
   "outputs": [
    {
     "data": {
      "text/plain": [
       "Nodes{Primal,12,12,Float64,Base.ReshapedArray{Float64,2,SubArray{Float64,1,Array{Float64,1},Tuple{UnitRange{Int64}},true},Tuple{}}} data\n",
       "Printing in grid orientation (lower left is (1,1))\n",
       "11×11 Array{Float64,2}:\n",
       " 0.0  0.0  0.0   0.0  0.0  0.0  0.0  0.0  0.0  0.0  0.0\n",
       " 0.0  0.0  0.0   0.0  0.0  0.0  0.0  0.0  0.0  0.0  0.0\n",
       " 0.0  0.0  0.0   0.0  0.0  0.0  0.0  0.0  0.0  0.0  0.0\n",
       " 0.0  0.0  0.0   0.0  0.0  0.0  0.0  0.0  0.0  0.0  0.0\n",
       " 0.0  0.0  0.0   0.0  0.0  0.0  0.0  0.0  0.0  0.0  0.0\n",
       " 0.0  0.0  0.0   0.0  0.0  0.0  0.0  0.0  0.0  0.0  0.0\n",
       " 0.0  0.0  0.0  -1.0  0.0  0.0  0.0  0.0  0.0  0.0  0.0\n",
       " 0.0  0.0  0.0   1.0  0.0  0.0  0.0  0.0  0.0  0.0  0.0\n",
       " 0.0  0.0  0.0   0.0  0.0  0.0  0.0  0.0  0.0  0.0  0.0\n",
       " 0.0  0.0  0.0   0.0  0.0  0.0  0.0  0.0  0.0  0.0  0.0\n",
       " 0.0  0.0  0.0   0.0  0.0  0.0  0.0  0.0  0.0  0.0  0.0"
      ]
     },
     "execution_count": 35,
     "metadata": {},
     "output_type": "execute_result"
    }
   ],
   "source": [
    "q = Edges(Dual,v)\n",
    "q.u[4,5] = 1.0\n",
    "dq = grad(q)\n",
    "dq.dudy"
   ]
  },
  {
   "cell_type": "markdown",
   "metadata": {},
   "source": [
    "#### Testing the inverse Laplacian"
   ]
  },
  {
   "cell_type": "code",
   "execution_count": 36,
   "metadata": {},
   "outputs": [
    {
     "data": {
      "text/plain": [
       "Discrete Laplacian (and inverse) on a (nx = 250, ny = 250) grid acting on Float64 data with spacing 1.0"
      ]
     },
     "execution_count": 36,
     "metadata": {},
     "output_type": "execute_result"
    }
   ],
   "source": [
    "L = plan_laplacian(nx,ny;with_inverse=true)"
   ]
  },
  {
   "cell_type": "code",
   "execution_count": 38,
   "metadata": {},
   "outputs": [
    {
     "name": "stdout",
     "output_type": "stream",
     "text": [
      "  0.003655 seconds (7 allocations: 976.859 KiB)\n"
     ]
    },
    {
     "data": {
      "text/plain": [
       "Nodes{Dual,250,250,Float64,Array{Float64,2}} data\n",
       "Printing in grid orientation (lower left is (1,1))\n",
       "250×250 Array{Float64,2}:\n",
       " 0.846223  0.846075  0.845931  0.845791  …  0.901595  0.901992  0.90239\n",
       " 0.845455  0.845305  0.84516   0.845018     0.901212  0.901612  0.902011\n",
       " 0.844683  0.844532  0.844385  0.844242     0.90083   0.901232  0.901633\n",
       " 0.843907  0.843755  0.843606  0.843462     0.900448  0.900852  0.901255\n",
       " 0.843128  0.842974  0.842824  0.842678     0.900066  0.900472  0.900877\n",
       " 0.842345  0.84219   0.842038  0.841891  …  0.899684  0.900092  0.900499\n",
       " 0.841558  0.841401  0.841249  0.8411       0.899303  0.899712  0.900121\n",
       " 0.840768  0.84061   0.840455  0.840305     0.898921  0.899332  0.899743\n",
       " 0.839974  0.839814  0.839658  0.839506     0.89854   0.898953  0.899366\n",
       " 0.839176  0.839014  0.838857  0.838703     0.898158  0.898573  0.898988\n",
       " 0.838374  0.838211  0.838052  0.837896  …  0.897777  0.898194  0.898611\n",
       " 0.837568  0.837403  0.837242  0.837086     0.897396  0.897815  0.898234\n",
       " 0.836758  0.836592  0.836429  0.836271     0.897016  0.897437  0.897857\n",
       " ⋮                                       ⋱                      \n",
       " 0.636197  0.634103  0.63201   0.629917     0.852108  0.852847  0.853582\n",
       " 0.638237  0.636197  0.634158  0.632123     0.852245  0.852982  0.853717\n",
       " 0.640277  0.638289  0.636304  0.634323  …  0.852385  0.853121  0.853854\n",
       " 0.642316  0.640379  0.638446  0.636518     0.852529  0.853264  0.853995\n",
       " 0.644352  0.642465  0.640583  0.638706     0.852676  0.853409  0.854139\n",
       " 0.646385  0.644546  0.642713  0.640887     0.852826  0.853558  0.854287\n",
       " 0.648413  0.646621  0.644835  0.643058     0.852979  0.85371   0.854437\n",
       " 0.650436  0.648689  0.64695   0.645219  …  0.853136  0.853865  0.854591\n",
       " 0.652452  0.650749  0.649055  0.64737      0.853295  0.854023  0.854748\n",
       " 0.654461  0.652802  0.651151  0.64951      0.853458  0.854185  0.854908\n",
       " 0.656463  0.654844  0.653236  0.651638     0.853624  0.854349  0.855071\n",
       " 0.658455  0.656878  0.65531   0.653754     0.853793  0.854517  0.855237"
      ]
     },
     "execution_count": 38,
     "metadata": {},
     "output_type": "execute_result"
    }
   ],
   "source": [
    "@time L\\cellunit"
   ]
  },
  {
   "cell_type": "code",
   "execution_count": 39,
   "metadata": {},
   "outputs": [
    {
     "data": {
      "text/plain": [
       "Nodes{Dual,250,250,Float64,Array{Float64,2}} data\n",
       "Printing in grid orientation (lower left is (1,1))\n",
       "250×250 Array{Float64,2}:\n",
       " 0.0   0.0           0.0          …   0.0           0.0          0.0\n",
       " 0.0  -1.33227e-15   0.0             -1.77636e-15   2.66454e-15  0.0\n",
       " 0.0   1.33227e-15   8.88178e-16      3.9968e-15    4.44089e-16  0.0\n",
       " 0.0  -2.66454e-15   0.0             -3.9968e-15   -1.77636e-15  0.0\n",
       " 0.0   3.10862e-15   0.0              2.66454e-15   8.88178e-16  0.0\n",
       " 0.0  -8.88178e-16   0.0          …  -1.33227e-15  -8.88178e-16  0.0\n",
       " 0.0  -4.44089e-16  -1.33227e-15      1.77636e-15   0.0          0.0\n",
       " 0.0   2.66454e-15   8.88178e-16      8.88178e-16   0.0          0.0\n",
       " 0.0  -1.33227e-15  -1.77636e-15     -4.44089e-16   8.88178e-16  0.0\n",
       " 0.0   0.0           8.88178e-16      1.77636e-15  -2.66454e-15  0.0\n",
       " 0.0  -4.44089e-16  -2.66454e-15  …  -2.66454e-15   0.0          0.0\n",
       " 0.0   1.77636e-15   4.44089e-15      2.22045e-15   2.66454e-15  0.0\n",
       " 0.0  -1.77636e-15  -1.77636e-15      8.88178e-16  -2.66454e-15  0.0\n",
       " ⋮                                ⋱                              \n",
       " 0.0   1.77636e-15  -4.44089e-16     -2.22045e-15   8.88178e-16  0.0\n",
       " 0.0  -1.33227e-15  -1.33227e-15     -4.44089e-16  -1.33227e-15  0.0\n",
       " 0.0   0.0           4.44089e-16  …   4.44089e-16   1.33227e-15  0.0\n",
       " 0.0   4.44089e-16   1.33227e-15      0.0          -4.44089e-16  0.0\n",
       " 0.0   1.33227e-15   0.0              0.0           4.44089e-16  0.0\n",
       " 0.0  -4.44089e-16  -8.88178e-16     -8.88178e-16   1.77636e-15  0.0\n",
       " 0.0  -4.44089e-16  -4.44089e-16      4.44089e-16  -8.88178e-16  0.0\n",
       " 0.0   1.77636e-15  -4.44089e-16  …   0.0          -8.88178e-16  0.0\n",
       " 0.0  -4.44089e-16  -1.33227e-15      1.77636e-15   8.88178e-16  0.0\n",
       " 0.0   4.44089e-16   1.77636e-15     -1.33227e-15   0.0          0.0\n",
       " 0.0  -1.77636e-15   4.44089e-16      0.0           1.33227e-15  0.0\n",
       " 0.0   0.0           0.0              0.0           0.0          0.0"
      ]
     },
     "execution_count": 39,
     "metadata": {},
     "output_type": "execute_result"
    }
   ],
   "source": [
    "cellunit_out = L*(L\\cellunit) "
   ]
  },
  {
   "cell_type": "code",
   "execution_count": 40,
   "metadata": {},
   "outputs": [
    {
     "data": {
      "text/plain": [
       "(0.9999999999999998, CartesianIndex(40, 50))"
      ]
     },
     "execution_count": 40,
     "metadata": {},
     "output_type": "execute_result"
    }
   ],
   "source": [
    "findmax(cellunit_out)"
   ]
  },
  {
   "cell_type": "code",
   "execution_count": null,
   "metadata": {},
   "outputs": [],
   "source": []
  }
 ],
 "metadata": {
  "kernelspec": {
   "display_name": "Julia 1.4.2",
   "language": "julia",
   "name": "julia-1.4"
  },
  "language_info": {
   "file_extension": ".jl",
   "mimetype": "application/julia",
   "name": "julia",
   "version": "1.4.2"
  }
 },
 "nbformat": 4,
 "nbformat_minor": 2
}
